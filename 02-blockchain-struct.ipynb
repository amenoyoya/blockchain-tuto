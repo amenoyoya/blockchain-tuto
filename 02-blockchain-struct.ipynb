{
 "cells": [
  {
   "cell_type": "markdown",
   "metadata": {},
   "source": [
    "# ブロックチェーンの構造\n",
    "\n",
    "## ハッシュ関数\n",
    "\n",
    "ハッシュ関数は、入力された数値を一定の規則に則った数値に変換する関数で、以下のような特徴がある\n",
    "\n",
    "1. 不可逆性\n",
    "    - 一方向にしか計算できず、逆算ができない\n",
    "2. 機密性\n",
    "    - 入力データが少しでも変われば、出力データは大きく変わる\n",
    "3. 固定長データ\n",
    "    - 入力データの長さを問わず、出力データは同じ長さのデータとなる\n",
    "4. 高処理速度\n",
    "    - 入力データから出力データを簡単に計算できる\n",
    "\n",
    "ハッシュ関数の持つ不可逆的性質は、第3者に知られたくない情報を隠すために利用される\n",
    "\n",
    "また、入力データの長さを問わずを問わず、出力値のデータ長が常に一定になるため、多くのデータを要約してデータサイズを圧縮することにも利用される\n",
    "\n",
    "### ハッシュ関数の種類\n",
    "\n",
    "| ハッシュ関数 | 詳細 |\n",
    "| :-- | :-- |\n",
    "| SHA-256 | Secure Hash Algorism 256 bit の略で、入力データのサイズにかかわらず256ビットのハッシュ値を生成する。ブロックチェーン技術全般で広く使われており、SHA-256を2回重ね掛けするような使い方もよく見られる |\n",
    "| RIPEMD-160 | RACE Integrity Primitives Evaluation Message Digest の略で、160ビットのハッシュ値を生成する。SHA-256よりも小さいサイズのハッシュ値を生成するため、データサイズを節約したい場合に利用される |\n",
    "| HMAC-SHA516 | キーとデータのペアを入力値として512ビットのハッシュ値を生成する。階層的決定性ウォレット（HDウォレット）で利用される |"
   ]
  },
  {
   "cell_type": "code",
   "execution_count": 1,
   "metadata": {},
   "outputs": [
    {
     "data": {
      "text/plain": [
       "\"2cf24dba5fb0a30e26e83b2ac5b9e29e1b161e5c1fa7425e73043362938b9824\""
      ]
     },
     "execution_count": 1,
     "metadata": {},
     "output_type": "execute_result"
    }
   ],
   "source": [
    "# Julia 標準ライブラリの SHA で SHA-256 ハッシュ化が可能\n",
    "using SHA\n",
    "\n",
    "sha256(\"hello\") |> bytes2hex"
   ]
  },
  {
   "cell_type": "code",
   "execution_count": 2,
   "metadata": {},
   "outputs": [
    {
     "name": "stdout",
     "output_type": "stream",
     "text": [
      "2cf24dba5fb0a30e26e83b2ac5b9e29e1b161e5c1fa7425e73043362938b9824\n",
      "d3751d33f9cd5049c4af2b462735457e4d3baf130bcbb87f389e349fbaeb20b9\n"
     ]
    }
   ],
   "source": [
    "# 入力値が少し異なるだけで出力値が大きく変わる\n",
    "sha256(\"hello\") |> bytes2hex |> println\n",
    "sha256(\"hallo\") |> bytes2hex |> println"
   ]
  },
  {
   "cell_type": "code",
   "execution_count": 3,
   "metadata": {},
   "outputs": [
    {
     "name": "stdout",
     "output_type": "stream",
     "text": [
      "2cf24dba5fb0a30e26e83b2ac5b9e29e1b161e5c1fa7425e73043362938b9824\n",
      "7d486915b914332bb5730fd772223e8b276919e51edca2de0f82c5fc1bce7eb5\n",
      "ce077bf893417e3622768aa174236d81c4520e433c379a5cb530c8839c71b7eb\n"
     ]
    }
   ],
   "source": [
    "# 入力値のサイズにかかわらず常に同じ長さのハッシュ値を出力する\n",
    "sha256(\"hello\") |> bytes2hex |> println\n",
    "sha256(\"Hello, World !\") |> bytes2hex |> println\n",
    "sha256(\"SHA-256ハッシュアルゴリズムは常に256ビット長のハッシュ値を生成する\") |> bytes2hex |> println"
   ]
  },
  {
   "cell_type": "markdown",
   "metadata": {},
   "source": [
    "## ブロックの構造\n",
    "\n",
    "### ブロックの内部構造\n",
    "ブロックチェーンのブロックの中身は以下のような構造になっている\n",
    "\n",
    "| property | 型 | 値 |\n",
    "| :-- | :-- | :-- |\n",
    "| magicnum | `UInt32` | マジックナンバー (ブロック識別子) |\n",
    "| blocksize | `UInt32` | ブロックサイズ |\n",
    "| blockheader | `BlockHeader` | ブロックヘッダ情報 |\n",
    "| Txsvi | `UInt32` | 取引の数 |\n",
    "| Txs | `Vector{Transaction}` | 取引リスト |\n",
    "\n",
    "### ブロックヘッダ構造\n",
    "ブロックヘッダは以下のような情報を含む80バイトのデータである\n",
    "\n",
    "| property | サイズ | 値 |\n",
    "| :-- | :-- | :-- |\n",
    "| Version | 4バイト | ビットフィールド |\n",
    "| Prev block hash | 32バイト | 1つ前のブロックのハッシュ値 |\n",
    "| Merkleroot | 32バイト | 取引を要約したハッシュ値 |\n",
    "| Time | 4バイト | ブロックが生成された時間を示すタイムスタンプ |\n",
    "| Bits | 4バイト | マイニングの難易度 |\n",
    "| Nonce | 4バイト | マイニングで条件を満たしたナンス値 |\n",
    "\n",
    "ブロックチェーンは、次のブロックのブロックヘッダに1つ前のブロックのハッシュ値が取り込まれ（Prev block hash）、鎖のように繋げられていく\n",
    "\n",
    "このように、ハッシュ関数を用いて次々とデータを鎖状に繋いでいく構造のことを **ハッシュチェーン** と呼ぶ\n",
    "\n",
    "### トランザクション\n",
    "マイニングを経て取り込まれるトランザクション（取引）の数は多くて3000ほどである\n",
    "\n",
    "これらのトランザクションはリストとして格納されており、その数によっては大きなデータサイズとなる場合もある\n",
    "\n",
    "基本的には取引のリストを格納するだけだが、依存関係のある取引の場合には、その格納順序が重要になる場合もある\n",
    "\n",
    "こういった場合、トランザクションの順番に関する情報までやり取りしなければならなくなり、マイニングが非効率になる\n",
    "\n",
    "そこで CTOR (Canonical Transaction Ordering Rule) 方式という、取引のハッシュ値を昇順で並べるといった方式も採用されている\n",
    "\n",
    "トランザクションは **マークルツリー (Markletree)** というデータ構造を用いてハッシュ化し、**マークルルート (Markleroot)** として要約される\n",
    "\n",
    "マークルルートはそのブロックのブロックヘッダに格納され、トランザクションが正しいものか検証する際に用いられる\n",
    "\n",
    "```bash\n",
    "# Markletree\n",
    "\n",
    "Markleroot\n",
    " |_ H1234\n",
    " |   |_ H12\n",
    " |   |   |_ H1 <- Tx1\n",
    " |   |   |_ H2 <- Tx2\n",
    " |   |\n",
    " |   |_ H34\n",
    " |       |_ H3 <- Tx3\n",
    " |       |_ H4 <- Tx4\n",
    " |\n",
    " |_ H5677\n",
    "     |_ H56\n",
    "     |   |_ H5 <- Tx5\n",
    "     |   |_ H6 <- Tx6\n",
    "     |\n",
    "     |_ H77\n",
    "         |_ H7 <- Tx7\n",
    "         |_ H7 <- (Tx7)\n",
    "```"
   ]
  },
  {
   "cell_type": "code",
   "execution_count": null,
   "metadata": {},
   "outputs": [],
   "source": []
  }
 ],
 "metadata": {
  "kernelspec": {
   "display_name": "Julia 1.7.2",
   "language": "julia",
   "name": "julia-1.7"
  },
  "language_info": {
   "file_extension": ".jl",
   "mimetype": "application/julia",
   "name": "julia",
   "version": "1.7.2"
  },
  "orig_nbformat": 4
 },
 "nbformat": 4,
 "nbformat_minor": 2
}
